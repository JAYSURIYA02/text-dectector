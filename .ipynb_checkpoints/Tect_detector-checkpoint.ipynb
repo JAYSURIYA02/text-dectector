{
 "cells": [
  {
   "cell_type": "code",
   "execution_count": 1,
   "id": "845a7a42-dc33-4ade-b4ea-6cbc4185096b",
   "metadata": {},
   "outputs": [
    {
     "name": "stdout",
     "output_type": "stream",
     "text": [
      "2.7.1+cu118\n",
      "0.22.1+cu118\n"
     ]
    }
   ],
   "source": [
    "import torch\n",
    "import torchvision\n",
    "print(torch.__version__)\n",
    "print(torchvision.__version__)\n"
   ]
  },
  {
   "cell_type": "code",
   "execution_count": 2,
   "id": "bea561bf-1871-42b5-8f8b-78c0bee39d76",
   "metadata": {},
   "outputs": [],
   "source": [
    "import cv2\n",
    "import easyocr\n",
    "import matplotlib.pyplot as plt"
   ]
  },
  {
   "cell_type": "code",
   "execution_count": 3,
   "id": "2fda0630-e793-4001-b2bb-3b03fd928da8",
   "metadata": {},
   "outputs": [
    {
     "name": "stdout",
     "output_type": "stream",
     "text": [
      "1.image\n",
      "2.video\n",
      "3.webcam\n"
     ]
    },
    {
     "name": "stdin",
     "output_type": "stream",
     "text": [
      "enter the choice  2\n",
      "Enter the video path  notaverage.mp4\n"
     ]
    },
    {
     "name": "stdout",
     "output_type": "stream",
     "text": [
      "[[523, 473], [659, 473], [659, 619], [523, 619]] V 0.0039151305457088\n"
     ]
    },
    {
     "ename": "NameError",
     "evalue": "name 'frame' is not defined",
     "output_type": "error",
     "traceback": [
      "\u001b[31m---------------------------------------------------------------------------\u001b[39m",
      "\u001b[31mNameError\u001b[39m                                 Traceback (most recent call last)",
      "\u001b[36mCell\u001b[39m\u001b[36m \u001b[39m\u001b[32mIn[3]\u001b[39m\u001b[32m, line 38\u001b[39m\n\u001b[32m     36\u001b[39m         cv2.rectangle(img_bgr,bbox[\u001b[32m0\u001b[39m],bbox[\u001b[32m2\u001b[39m],(\u001b[32m0\u001b[39m,\u001b[32m255\u001b[39m,\u001b[32m0\u001b[39m),\u001b[32m5\u001b[39m)\n\u001b[32m     37\u001b[39m         cv2.putText(img_bgr,text,bbox[\u001b[32m0\u001b[39m],cv2.FONT_HERSHEY_COMPLEX,\u001b[32m2\u001b[39m,(\u001b[32m0\u001b[39m,\u001b[32m0\u001b[39m,\u001b[32m255\u001b[39m),\u001b[32m2\u001b[39m)\n\u001b[32m---> \u001b[39m\u001b[32m38\u001b[39m cv2.imshow(\u001b[33m\"\u001b[39m\u001b[33mVideo OCR\u001b[39m\u001b[33m\"\u001b[39m, \u001b[43mframe\u001b[49m)\n\u001b[32m     39\u001b[39m \u001b[38;5;28;01mif\u001b[39;00m cv2.waitKey(\u001b[32m1\u001b[39m) & \u001b[32m0xFF\u001b[39m == \u001b[38;5;28mord\u001b[39m(\u001b[33m'\u001b[39m\u001b[33mq\u001b[39m\u001b[33m'\u001b[39m):\n\u001b[32m     40\u001b[39m     \u001b[38;5;28;01mbreak\u001b[39;00m\n",
      "\u001b[31mNameError\u001b[39m: name 'frame' is not defined"
     ]
    }
   ],
   "source": [
    "import cv2\n",
    "import easyocr\n",
    "reader = easyocr.Reader(['en'], gpu=True)\n",
    "print(\"1.image\\n2.video\\n3.webcam\")\n",
    "\n",
    "choice = input ('enter the choice ').strip()\n",
    "if(int(choice)==1):\n",
    "# Load with OpenCV\n",
    "    path = input('enter the image path ').strip() \n",
    "    img_bgr = cv2.imread(path)\n",
    "    \n",
    "    # OCR\n",
    "    result = reader.readtext(img_bgr)\n",
    "    threshold = 0.25\n",
    "    for (bbox, text, score) in result:\n",
    "        print(bbox, text, score)\n",
    "        if score >threshold:\n",
    "            cv2.rectangle(img_bgr,bbox[0],bbox[2],(0,255,0),5)\n",
    "            cv2.putText(img_bgr,text,bbox[0],cv2.FONT_HERSHEY_COMPLEX,0.50,(0,0,255),2)\n",
    "    plt.imshow(cv2.cvtColor(img_bgr, cv2.COLOR_BGR2RGB))\n",
    "    plt.axis('off')\n",
    "    plt.show()\n",
    "    \n",
    "elif(int(choice) ==2 ):\n",
    "    path = input('Enter the video path ').strip()\n",
    "    frames = cv2.VideoCapture(path)\n",
    "    while True:\n",
    "        ret,img_bgr = frames.read()\n",
    "        if not ret:\n",
    "            exit()\n",
    "        result = reader.readtext(img_bgr)\n",
    "        threshold = 0.25\n",
    "        for (bbox, text, score) in result:\n",
    "            print(bbox, text, score)\n",
    "            if score >threshold:\n",
    "                cv2.rectangle(img_bgr,bbox[0],bbox[2],(0,255,0),5)\n",
    "                cv2.putText(img_bgr,text,bbox[0],cv2.FONT_HERSHEY_COMPLEX,2,(0,0,255),2)\n",
    "        cv2.imshow(\"Video OCR\", img_bgr)\n",
    "        if cv2.waitKey(1) & 0xFF == ord('q'):\n",
    "            break\n",
    "\n",
    "    cap.release()\n",
    "    cv2.destroyAllWindows()\n",
    "        \n",
    "    "
   ]
  },
  {
   "cell_type": "code",
   "execution_count": null,
   "id": "b02ae8ff-9ee3-4b7e-8a3d-b16ea14f02e4",
   "metadata": {},
   "outputs": [],
   "source": []
  }
 ],
 "metadata": {
  "kernelspec": {
   "display_name": "Python (myproject)",
   "language": "python",
   "name": "myproject"
  },
  "language_info": {
   "codemirror_mode": {
    "name": "ipython",
    "version": 3
   },
   "file_extension": ".py",
   "mimetype": "text/x-python",
   "name": "python",
   "nbconvert_exporter": "python",
   "pygments_lexer": "ipython3",
   "version": "3.11.13"
  }
 },
 "nbformat": 4,
 "nbformat_minor": 5
}
