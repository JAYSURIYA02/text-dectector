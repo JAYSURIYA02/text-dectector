{
 "cells": [
  {
   "cell_type": "code",
   "execution_count": null,
   "id": "b3089b94-20eb-4e92-82f7-d62ab7d74c39",
   "metadata": {},
   "outputs": [],
   "source": [
    "conda activate your_env_name"
   ]
  },
  {
   "cell_type": "code",
   "execution_count": 5,
   "id": "4438726e-527b-45c0-9d53-3fec6ddae8c1",
   "metadata": {},
   "outputs": [
    {
     "name": "stdout",
     "output_type": "stream",
     "text": [
      "Collecting easyocr\n",
      "  Downloading easyocr-1.7.2-py3-none-any.whl.metadata (10 kB)\n",
      "Requirement already satisfied: torch in c:\\users\\jaysu\\anaconda3\\lib\\site-packages (from easyocr) (2.5.1)\n",
      "Requirement already satisfied: torchvision>=0.5 in c:\\users\\jaysu\\anaconda3\\lib\\site-packages (from easyocr) (0.20.1)\n",
      "Collecting opencv-python-headless (from easyocr)\n",
      "  Downloading opencv_python_headless-4.12.0.88-cp37-abi3-win_amd64.whl.metadata (20 kB)\n",
      "Requirement already satisfied: scipy in c:\\users\\jaysu\\anaconda3\\lib\\site-packages (from easyocr) (1.13.1)\n",
      "Requirement already satisfied: numpy in c:\\users\\jaysu\\anaconda3\\lib\\site-packages (from easyocr) (1.26.4)\n",
      "Requirement already satisfied: Pillow in c:\\users\\jaysu\\anaconda3\\lib\\site-packages (from easyocr) (10.4.0)\n",
      "Requirement already satisfied: scikit-image in c:\\users\\jaysu\\anaconda3\\lib\\site-packages (from easyocr) (0.24.0)\n",
      "Collecting python-bidi (from easyocr)\n",
      "  Downloading python_bidi-0.6.6-cp312-cp312-win_amd64.whl.metadata (5.0 kB)\n",
      "Requirement already satisfied: PyYAML in c:\\users\\jaysu\\anaconda3\\lib\\site-packages (from easyocr) (6.0.1)\n",
      "Collecting Shapely (from easyocr)\n",
      "  Downloading shapely-2.1.1-cp312-cp312-win_amd64.whl.metadata (7.0 kB)\n",
      "Collecting pyclipper (from easyocr)\n",
      "  Downloading pyclipper-1.3.0.post6-cp312-cp312-win_amd64.whl.metadata (9.2 kB)\n",
      "Collecting ninja (from easyocr)\n",
      "  Downloading ninja-1.13.0-py3-none-win_amd64.whl.metadata (5.1 kB)\n",
      "Requirement already satisfied: filelock in c:\\users\\jaysu\\anaconda3\\lib\\site-packages (from torch->easyocr) (3.13.1)\n",
      "Requirement already satisfied: typing-extensions>=4.8.0 in c:\\users\\jaysu\\anaconda3\\lib\\site-packages (from torch->easyocr) (4.11.0)\n",
      "Requirement already satisfied: setuptools in c:\\users\\jaysu\\anaconda3\\lib\\site-packages (from torch->easyocr) (75.1.0)\n",
      "Collecting sympy==1.13.1 (from torch->easyocr)\n",
      "  Using cached sympy-1.13.1-py3-none-any.whl.metadata (12 kB)\n",
      "Requirement already satisfied: networkx in c:\\users\\jaysu\\anaconda3\\lib\\site-packages (from torch->easyocr) (3.3)\n",
      "Requirement already satisfied: jinja2 in c:\\users\\jaysu\\anaconda3\\lib\\site-packages (from torch->easyocr) (3.1.4)\n",
      "Requirement already satisfied: fsspec in c:\\users\\jaysu\\anaconda3\\lib\\site-packages (from torch->easyocr) (2024.6.1)\n",
      "Requirement already satisfied: mpmath<1.4,>=1.1.0 in c:\\users\\jaysu\\anaconda3\\lib\\site-packages (from sympy==1.13.1->torch->easyocr) (1.3.0)\n",
      "Collecting numpy (from easyocr)\n",
      "  Using cached numpy-2.2.6-cp312-cp312-win_amd64.whl.metadata (60 kB)\n",
      "Requirement already satisfied: imageio>=2.33 in c:\\users\\jaysu\\anaconda3\\lib\\site-packages (from scikit-image->easyocr) (2.33.1)\n",
      "Requirement already satisfied: tifffile>=2022.8.12 in c:\\users\\jaysu\\anaconda3\\lib\\site-packages (from scikit-image->easyocr) (2023.4.12)\n",
      "Requirement already satisfied: packaging>=21 in c:\\users\\jaysu\\appdata\\roaming\\python\\python312\\site-packages (from scikit-image->easyocr) (24.2)\n",
      "Requirement already satisfied: lazy-loader>=0.4 in c:\\users\\jaysu\\anaconda3\\lib\\site-packages (from scikit-image->easyocr) (0.4)\n",
      "Requirement already satisfied: MarkupSafe>=2.0 in c:\\users\\jaysu\\anaconda3\\lib\\site-packages (from jinja2->torch->easyocr) (2.1.3)\n",
      "Downloading easyocr-1.7.2-py3-none-any.whl (2.9 MB)\n",
      "   ---------------------------------------- 0.0/2.9 MB ? eta -:--:--\n",
      "   ---------------------------------------- 2.9/2.9 MB 16.7 MB/s eta 0:00:00\n",
      "Using cached sympy-1.13.1-py3-none-any.whl (6.2 MB)\n",
      "Downloading ninja-1.13.0-py3-none-win_amd64.whl (309 kB)\n",
      "Downloading opencv_python_headless-4.12.0.88-cp37-abi3-win_amd64.whl (38.9 MB)\n",
      "   ---------------------------------------- 0.0/38.9 MB ? eta -:--:--\n",
      "   --- ------------------------------------ 3.1/38.9 MB 23.1 MB/s eta 0:00:02\n",
      "   ------ --------------------------------- 6.3/38.9 MB 16.8 MB/s eta 0:00:02\n",
      "   --------- ------------------------------ 9.4/38.9 MB 16.3 MB/s eta 0:00:02\n",
      "   ------------ --------------------------- 12.3/38.9 MB 15.4 MB/s eta 0:00:02\n",
      "   --------------- ------------------------ 15.5/38.9 MB 15.5 MB/s eta 0:00:02\n",
      "   ------------------ --------------------- 17.8/38.9 MB 14.8 MB/s eta 0:00:02\n",
      "   -------------------- ------------------- 20.2/38.9 MB 14.2 MB/s eta 0:00:02\n",
      "   ----------------------- ---------------- 22.5/38.9 MB 13.8 MB/s eta 0:00:02\n",
      "   ------------------------- -------------- 25.2/38.9 MB 13.6 MB/s eta 0:00:02\n",
      "   ---------------------------- ----------- 27.5/38.9 MB 13.5 MB/s eta 0:00:01\n",
      "   ------------------------------ --------- 30.1/38.9 MB 13.5 MB/s eta 0:00:01\n",
      "   ---------------------------------- ----- 33.3/38.9 MB 13.5 MB/s eta 0:00:01\n",
      "   ------------------------------------- -- 36.2/38.9 MB 13.5 MB/s eta 0:00:01\n",
      "   ---------------------------------------  38.8/38.9 MB 13.7 MB/s eta 0:00:01\n",
      "   ---------------------------------------- 38.9/38.9 MB 13.3 MB/s eta 0:00:00\n",
      "Using cached numpy-2.2.6-cp312-cp312-win_amd64.whl (12.6 MB)\n",
      "Downloading pyclipper-1.3.0.post6-cp312-cp312-win_amd64.whl (110 kB)\n",
      "Downloading python_bidi-0.6.6-cp312-cp312-win_amd64.whl (160 kB)\n",
      "Downloading shapely-2.1.1-cp312-cp312-win_amd64.whl (1.7 MB)\n",
      "   ---------------------------------------- 0.0/1.7 MB ? eta -:--:--\n",
      "   ---------------------------------------- 1.7/1.7 MB 13.2 MB/s eta 0:00:00\n",
      "Installing collected packages: python-bidi, pyclipper, sympy, numpy, ninja, Shapely, opencv-python-headless, easyocr\n",
      "  Attempting uninstall: sympy\n",
      "    Found existing installation: sympy 1.13.2\n",
      "    Uninstalling sympy-1.13.2:\n",
      "      Successfully uninstalled sympy-1.13.2\n",
      "  Attempting uninstall: numpy\n",
      "    Found existing installation: numpy 1.26.4\n",
      "    Uninstalling numpy-1.26.4:\n",
      "      Successfully uninstalled numpy-1.26.4\n",
      "Successfully installed Shapely-2.1.1 easyocr-1.7.2 ninja-1.13.0 numpy-2.2.6 opencv-python-headless-4.12.0.88 pyclipper-1.3.0.post6 python-bidi-0.6.6 sympy-1.13.1\n",
      "Note: you may need to restart the kernel to use updated packages.\n"
     ]
    },
    {
     "name": "stderr",
     "output_type": "stream",
     "text": [
      "WARNING: Ignoring invalid distribution ~umpy (C:\\Users\\jaysu\\anaconda3\\Lib\\site-packages)\n",
      "WARNING: Ignoring invalid distribution ~umpy (C:\\Users\\jaysu\\anaconda3\\Lib\\site-packages)\n",
      "  WARNING: Failed to remove contents in a temporary directory 'C:\\Users\\jaysu\\anaconda3\\Lib\\site-packages\\~-mpy.libs'.\n",
      "  You can safely remove it manually.\n",
      "  WARNING: Failed to remove contents in a temporary directory 'C:\\Users\\jaysu\\anaconda3\\Lib\\site-packages\\~~mpy'.\n",
      "  You can safely remove it manually.\n",
      "WARNING: Ignoring invalid distribution ~umpy (C:\\Users\\jaysu\\anaconda3\\Lib\\site-packages)\n",
      "ERROR: pip's dependency resolver does not currently take into account all the packages that are installed. This behaviour is the source of the following dependency conflicts.\n",
      "contourpy 1.2.0 requires numpy<2.0,>=1.20, but you have numpy 2.2.6 which is incompatible.\n",
      "gensim 4.3.3 requires numpy<2.0,>=1.18.5, but you have numpy 2.2.6 which is incompatible.\n",
      "mediapipe 0.10.21 requires numpy<2, but you have numpy 2.2.6 which is incompatible.\n",
      "numba 0.60.0 requires numpy<2.1,>=1.22, but you have numpy 2.2.6 which is incompatible.\n"
     ]
    }
   ],
   "source": [
    "pip install easyocr"
   ]
  },
  {
   "cell_type": "code",
   "execution_count": 11,
   "id": "845a7a42-dc33-4ade-b4ea-6cbc4185096b",
   "metadata": {},
   "outputs": [
    {
     "name": "stdout",
     "output_type": "stream",
     "text": [
      "False\n"
     ]
    }
   ],
   "source": [
    "import torch\n",
    "print(torch.cuda.is_available())"
   ]
  },
  {
   "cell_type": "code",
   "execution_count": 1,
   "id": "bea561bf-1871-42b5-8f8b-78c0bee39d76",
   "metadata": {},
   "outputs": [],
   "source": [
    "import cv2\n",
    "import easyocr\n",
    "import matplotlib as plt"
   ]
  },
  {
   "cell_type": "code",
   "execution_count": 7,
   "id": "2fda0630-e793-4001-b2bb-3b03fd928da8",
   "metadata": {},
   "outputs": [
    {
     "name": "stderr",
     "output_type": "stream",
     "text": [
      "Neither CUDA nor MPS are available - defaulting to CPU. Note: This module is much faster with a GPU.\n",
      "C:\\Users\\jaysu\\anaconda3\\envs\\myproject\\Lib\\site-packages\\torch\\utils\\data\\dataloader.py:666: UserWarning: 'pin_memory' argument is set as true but no accelerator is found, then device pinned memory won't be used.\n",
      "  warnings.warn(warn_msg)\n"
     ]
    },
    {
     "name": "stdout",
     "output_type": "stream",
     "text": [
      "[[56, 18], [306, 18], [306, 70], [56, 70]] WARNING 0.9999501666938966\n",
      "[[16, 83], [305, 83], [305, 131], [16, 131]] CONSTRUCTION 0.9974723495303952\n",
      "[[101, 125], [225, 125], [225, 167], [101, 167]] WORK 0.9515442772061169\n",
      "[[34, 158], [288, 158], [288, 206], [34, 206]] IN PROGRESS 0.986582355762811\n"
     ]
    }
   ],
   "source": [
    "import cv2\n",
    "import easyocr\n",
    "\n",
    "# Load with OpenCV\n",
    "img_bgr = cv2.imread(\"G7014.png\")\n",
    "\n",
    "if img_bgr is None:\n",
    "    raise ValueError(\" Image not loaded. Check path!\")\n",
    "\n",
    "# Convert BGR → RGB\n",
    "img_rgb = cv2.cvtColor(img_bgr, cv2.COLOR_BGR2RGB)\n",
    "\n",
    "# OCR\n",
    "reader = easyocr.Reader(['en'], gpu=True)\n",
    "result = reader.readtext(img_rgb)\n",
    "\n",
    "for (bbox, text, score) in result:\n",
    "    print(bbox, text, score)"
   ]
  },
  {
   "cell_type": "code",
   "execution_count": null,
   "id": "b02ae8ff-9ee3-4b7e-8a3d-b16ea14f02e4",
   "metadata": {},
   "outputs": [],
   "source": []
  }
 ],
 "metadata": {
  "kernelspec": {
   "display_name": "Python (myproject)",
   "language": "python",
   "name": "myproject"
  },
  "language_info": {
   "codemirror_mode": {
    "name": "ipython",
    "version": 3
   },
   "file_extension": ".py",
   "mimetype": "text/x-python",
   "name": "python",
   "nbconvert_exporter": "python",
   "pygments_lexer": "ipython3",
   "version": "3.11.13"
  }
 },
 "nbformat": 4,
 "nbformat_minor": 5
}
