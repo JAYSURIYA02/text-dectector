{
 "cells": [
  {
   "cell_type": "code",
   "execution_count": 1,
   "id": "845a7a42-dc33-4ade-b4ea-6cbc4185096b",
   "metadata": {},
   "outputs": [
    {
     "name": "stdout",
     "output_type": "stream",
     "text": [
      "2.7.1+cu118\n",
      "0.22.1+cu118\n"
     ]
    }
   ],
   "source": [
    "import torch\n",
    "import torchvision\n",
    "print(torch.__version__)\n",
    "print(torchvision.__version__)\n"
   ]
  },
  {
   "cell_type": "code",
   "execution_count": 3,
   "id": "bea561bf-1871-42b5-8f8b-78c0bee39d76",
   "metadata": {},
   "outputs": [],
   "source": [
    "import cv2\n",
    "import easyocr\n",
    "import matplotlib as plt"
   ]
  },
  {
   "cell_type": "code",
   "execution_count": 5,
   "id": "2fda0630-e793-4001-b2bb-3b03fd928da8",
   "metadata": {},
   "outputs": [
    {
     "name": "stdout",
     "output_type": "stream",
     "text": [
      "[[56, 18], [306, 18], [306, 70], [56, 70]] WARNING 0.9999460664494649\n",
      "[[16, 83], [305, 83], [305, 131], [16, 131]] CONSTRUCTION 0.9973803974056517\n",
      "[[101, 125], [225, 125], [225, 167], [101, 167]] WORK 0.9978726899801157\n",
      "[[34, 158], [288, 158], [288, 206], [34, 206]] IN PROGRESS 0.9782353663173893\n"
     ]
    }
   ],
   "source": [
    "import cv2\n",
    "import easyocr\n",
    "\n",
    "# Load with OpenCV\n",
    "img_bgr = cv2.imread(\"G7014.png\")\n",
    "\n",
    "if img_bgr is None:\n",
    "    raise ValueError(\" Image not loaded. Check path!\")\n",
    "\n",
    "# Convert BGR → RGB\n",
    "img_rgb = cv2.cvtColor(img_bgr, cv2.COLOR_BGR2RGB)\n",
    "\n",
    "# OCR\n",
    "reader = easyocr.Reader(['en'], gpu=True)\n",
    "result = reader.readtext(img_rgb)\n",
    "\n",
    "for (bbox, text, score) in result:\n",
    "    print(bbox, text, score)"
   ]
  },
  {
   "cell_type": "code",
   "execution_count": null,
   "id": "b02ae8ff-9ee3-4b7e-8a3d-b16ea14f02e4",
   "metadata": {},
   "outputs": [],
   "source": []
  }
 ],
 "metadata": {
  "kernelspec": {
   "display_name": "Python (myproject)",
   "language": "python",
   "name": "myproject"
  },
  "language_info": {
   "codemirror_mode": {
    "name": "ipython",
    "version": 3
   },
   "file_extension": ".py",
   "mimetype": "text/x-python",
   "name": "python",
   "nbconvert_exporter": "python",
   "pygments_lexer": "ipython3",
   "version": "3.11.13"
  }
 },
 "nbformat": 4,
 "nbformat_minor": 5
}
